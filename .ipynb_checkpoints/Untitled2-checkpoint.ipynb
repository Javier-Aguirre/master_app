{
 "cells": [
  {
   "cell_type": "code",
   "execution_count": 45,
   "id": "a4a769df",
   "metadata": {},
   "outputs": [],
   "source": [
    "import pandas as pd\n",
    "import numpy as np\n",
    "import os\n",
    "import ast\n",
    "\n",
    "data_path = \"./Data/processed_data.csv\"\n",
    "university_path = \"./Data/University_ranking.csv\""
   ]
  },
  {
   "cell_type": "code",
   "execution_count": 46,
   "id": "d084283f",
   "metadata": {},
   "outputs": [],
   "source": [
    "univ_city = pd.DataFrame(pd.read_csv(university_path),columns=[\"Name\",\"City\",\"Country\"])\\\n",
    "    .drop_duplicates()\n",
    "univ_city.columns = ['university_name', 'City', 'Country']\n",
    "univ_city = univ_city[univ_city.City !=\"-\"]\n",
    "univ_city = univ_city[univ_city[\"university_name\"].duplicated()==False]\n",
    "\n",
    "univ_info = pd.read_csv(\"./Data/universities_data.csv\")\n",
    "univ_info = univ_info[univ_info.year == 2015].drop(columns =[\"year\"])\n",
    "univ_info[\"university_name\"] = univ_info.institution\n",
    "univ_info = univ_info.drop(columns =[\"institution\"])\n",
    "\n",
    "\n",
    "masters = pd.read_csv(data_path).drop(columns=[\"Unnamed: 0\"]).drop_duplicates()\n",
    "masters.language = masters.language.apply(lambda x: x.split(\", \") if not pd.isna(x) else np.nan)\n",
    "masters_short = pd.DataFrame(masters, columns = [\"program_name\",\"program_type\",\"university_name\",\"program_url\",\n",
    "                      \"tuition_1_EUR\",\"duration_months\"]).drop_duplicates()"
   ]
  },
  {
   "cell_type": "code",
   "execution_count": 47,
   "id": "aa1faa17",
   "metadata": {},
   "outputs": [],
   "source": [
    "masters_short = masters_short.rename(columns={'tuition_1_EUR':'tuition'})\n"
   ]
  },
  {
   "cell_type": "code",
   "execution_count": 48,
   "id": "29ac70e9",
   "metadata": {},
   "outputs": [],
   "source": [
    "masters_short.tuition = masters_short.tuition.round()"
   ]
  },
  {
   "cell_type": "code",
   "execution_count": 43,
   "id": "f2e2c147",
   "metadata": {},
   "outputs": [],
   "source": [
    "masters_short.replace(-1, np.nan, inplace=True)"
   ]
  },
  {
   "cell_type": "code",
   "execution_count": 3,
   "id": "3da92b94",
   "metadata": {},
   "outputs": [],
   "source": [
    "merged_info = masters_short.merge(univ_info,on=\"university_name\", how='inner')\\\n",
    ".merge(univ_city,on=\"university_name\", how='left')\n",
    "\n"
   ]
  },
  {
   "cell_type": "code",
   "execution_count": 49,
   "id": "58e4324f",
   "metadata": {},
   "outputs": [
    {
     "data": {
      "text/html": [
       "<div>\n",
       "<style scoped>\n",
       "    .dataframe tbody tr th:only-of-type {\n",
       "        vertical-align: middle;\n",
       "    }\n",
       "\n",
       "    .dataframe tbody tr th {\n",
       "        vertical-align: top;\n",
       "    }\n",
       "\n",
       "    .dataframe thead th {\n",
       "        text-align: right;\n",
       "    }\n",
       "</style>\n",
       "<table border=\"1\" class=\"dataframe\">\n",
       "  <thead>\n",
       "    <tr style=\"text-align: right;\">\n",
       "      <th></th>\n",
       "      <th>program_name</th>\n",
       "      <th>program_type</th>\n",
       "      <th>university_name</th>\n",
       "      <th>program_url</th>\n",
       "      <th>tuition</th>\n",
       "      <th>duration_months</th>\n",
       "    </tr>\n",
       "  </thead>\n",
       "  <tbody>\n",
       "    <tr>\n",
       "      <th>0</th>\n",
       "      <td>Economics</td>\n",
       "      <td>MSc</td>\n",
       "      <td>American University of Armenia</td>\n",
       "      <td>http://www.mastersportal.eu/studies/71101/econ...</td>\n",
       "      <td>6442.0</td>\n",
       "      <td>NaN</td>\n",
       "    </tr>\n",
       "    <tr>\n",
       "      <th>1</th>\n",
       "      <td>Political Science and International Affairs</td>\n",
       "      <td>Master</td>\n",
       "      <td>American University of Armenia</td>\n",
       "      <td>http://www.mastersportal.eu/studies/71085/poli...</td>\n",
       "      <td>6300.0</td>\n",
       "      <td>24.0</td>\n",
       "    </tr>\n",
       "    <tr>\n",
       "      <th>2</th>\n",
       "      <td>Business Administration</td>\n",
       "      <td>MBA</td>\n",
       "      <td>American University of Armenia</td>\n",
       "      <td>http://www.mastersportal.eu/studies/71102/busi...</td>\n",
       "      <td>7497.0</td>\n",
       "      <td>NaN</td>\n",
       "    </tr>\n",
       "    <tr>\n",
       "      <th>3</th>\n",
       "      <td>Computer and Information Science</td>\n",
       "      <td>MSc</td>\n",
       "      <td>American University of Armenia</td>\n",
       "      <td>http://www.mastersportal.eu/studies/71104/comp...</td>\n",
       "      <td>6300.0</td>\n",
       "      <td>24.0</td>\n",
       "    </tr>\n",
       "    <tr>\n",
       "      <th>4</th>\n",
       "      <td>Industrial Engineering and Systems Management</td>\n",
       "      <td>MEng</td>\n",
       "      <td>American University of Armenia</td>\n",
       "      <td>http://www.mastersportal.eu/studies/71103/indu...</td>\n",
       "      <td>6300.0</td>\n",
       "      <td>24.0</td>\n",
       "    </tr>\n",
       "  </tbody>\n",
       "</table>\n",
       "</div>"
      ],
      "text/plain": [
       "                                    program_name program_type  \\\n",
       "0                                      Economics          MSc   \n",
       "1    Political Science and International Affairs       Master   \n",
       "2                        Business Administration          MBA   \n",
       "3               Computer and Information Science          MSc   \n",
       "4  Industrial Engineering and Systems Management         MEng   \n",
       "\n",
       "                  university_name  \\\n",
       "0  American University of Armenia   \n",
       "1  American University of Armenia   \n",
       "2  American University of Armenia   \n",
       "3  American University of Armenia   \n",
       "4  American University of Armenia   \n",
       "\n",
       "                                         program_url  tuition  duration_months  \n",
       "0  http://www.mastersportal.eu/studies/71101/econ...   6442.0              NaN  \n",
       "1  http://www.mastersportal.eu/studies/71085/poli...   6300.0             24.0  \n",
       "2  http://www.mastersportal.eu/studies/71102/busi...   7497.0              NaN  \n",
       "3  http://www.mastersportal.eu/studies/71104/comp...   6300.0             24.0  \n",
       "4  http://www.mastersportal.eu/studies/71103/indu...   6300.0             24.0  "
      ]
     },
     "execution_count": 49,
     "metadata": {},
     "output_type": "execute_result"
    }
   ],
   "source": [
    "masters_short.head()"
   ]
  },
  {
   "cell_type": "code",
   "execution_count": 52,
   "id": "3cb13a2d",
   "metadata": {},
   "outputs": [
    {
     "data": {
      "text/html": [
       "<div>\n",
       "<style scoped>\n",
       "    .dataframe tbody tr th:only-of-type {\n",
       "        vertical-align: middle;\n",
       "    }\n",
       "\n",
       "    .dataframe tbody tr th {\n",
       "        vertical-align: top;\n",
       "    }\n",
       "\n",
       "    .dataframe thead th {\n",
       "        text-align: right;\n",
       "    }\n",
       "</style>\n",
       "<table border=\"1\" class=\"dataframe\">\n",
       "  <thead>\n",
       "    <tr style=\"text-align: right;\">\n",
       "      <th></th>\n",
       "      <th>world_rank</th>\n",
       "      <th>country</th>\n",
       "      <th>national_rank</th>\n",
       "      <th>quality_of_education</th>\n",
       "      <th>alumni_employment</th>\n",
       "      <th>quality_of_faculty</th>\n",
       "      <th>publications</th>\n",
       "      <th>influence</th>\n",
       "      <th>citations</th>\n",
       "      <th>broad_impact</th>\n",
       "      <th>patents</th>\n",
       "      <th>score</th>\n",
       "      <th>university_name</th>\n",
       "    </tr>\n",
       "  </thead>\n",
       "  <tbody>\n",
       "    <tr>\n",
       "      <th>1200</th>\n",
       "      <td>1</td>\n",
       "      <td>USA</td>\n",
       "      <td>1</td>\n",
       "      <td>1</td>\n",
       "      <td>1</td>\n",
       "      <td>1</td>\n",
       "      <td>1</td>\n",
       "      <td>1</td>\n",
       "      <td>1</td>\n",
       "      <td>1.0</td>\n",
       "      <td>3</td>\n",
       "      <td>100.00</td>\n",
       "      <td>Harvard University</td>\n",
       "    </tr>\n",
       "    <tr>\n",
       "      <th>1201</th>\n",
       "      <td>2</td>\n",
       "      <td>USA</td>\n",
       "      <td>2</td>\n",
       "      <td>9</td>\n",
       "      <td>2</td>\n",
       "      <td>4</td>\n",
       "      <td>5</td>\n",
       "      <td>3</td>\n",
       "      <td>3</td>\n",
       "      <td>4.0</td>\n",
       "      <td>10</td>\n",
       "      <td>98.66</td>\n",
       "      <td>Stanford University</td>\n",
       "    </tr>\n",
       "    <tr>\n",
       "      <th>1202</th>\n",
       "      <td>3</td>\n",
       "      <td>USA</td>\n",
       "      <td>3</td>\n",
       "      <td>3</td>\n",
       "      <td>11</td>\n",
       "      <td>2</td>\n",
       "      <td>15</td>\n",
       "      <td>2</td>\n",
       "      <td>2</td>\n",
       "      <td>2.0</td>\n",
       "      <td>1</td>\n",
       "      <td>97.54</td>\n",
       "      <td>Massachusetts Institute of Technology</td>\n",
       "    </tr>\n",
       "    <tr>\n",
       "      <th>1203</th>\n",
       "      <td>4</td>\n",
       "      <td>United Kingdom</td>\n",
       "      <td>1</td>\n",
       "      <td>2</td>\n",
       "      <td>10</td>\n",
       "      <td>5</td>\n",
       "      <td>11</td>\n",
       "      <td>6</td>\n",
       "      <td>12</td>\n",
       "      <td>13.0</td>\n",
       "      <td>48</td>\n",
       "      <td>96.81</td>\n",
       "      <td>University of Cambridge</td>\n",
       "    </tr>\n",
       "    <tr>\n",
       "      <th>1204</th>\n",
       "      <td>5</td>\n",
       "      <td>United Kingdom</td>\n",
       "      <td>2</td>\n",
       "      <td>7</td>\n",
       "      <td>13</td>\n",
       "      <td>10</td>\n",
       "      <td>7</td>\n",
       "      <td>12</td>\n",
       "      <td>7</td>\n",
       "      <td>9.0</td>\n",
       "      <td>15</td>\n",
       "      <td>96.46</td>\n",
       "      <td>University of Oxford</td>\n",
       "    </tr>\n",
       "  </tbody>\n",
       "</table>\n",
       "</div>"
      ],
      "text/plain": [
       "      world_rank         country  national_rank  quality_of_education  \\\n",
       "1200           1             USA              1                     1   \n",
       "1201           2             USA              2                     9   \n",
       "1202           3             USA              3                     3   \n",
       "1203           4  United Kingdom              1                     2   \n",
       "1204           5  United Kingdom              2                     7   \n",
       "\n",
       "      alumni_employment  quality_of_faculty  publications  influence  \\\n",
       "1200                  1                   1             1          1   \n",
       "1201                  2                   4             5          3   \n",
       "1202                 11                   2            15          2   \n",
       "1203                 10                   5            11          6   \n",
       "1204                 13                  10             7         12   \n",
       "\n",
       "      citations  broad_impact  patents   score  \\\n",
       "1200          1           1.0        3  100.00   \n",
       "1201          3           4.0       10   98.66   \n",
       "1202          2           2.0        1   97.54   \n",
       "1203         12          13.0       48   96.81   \n",
       "1204          7           9.0       15   96.46   \n",
       "\n",
       "                            university_name  \n",
       "1200                     Harvard University  \n",
       "1201                    Stanford University  \n",
       "1202  Massachusetts Institute of Technology  \n",
       "1203                University of Cambridge  \n",
       "1204                   University of Oxford  "
      ]
     },
     "execution_count": 52,
     "metadata": {},
     "output_type": "execute_result"
    }
   ],
   "source": [
    "univ_info.head()"
   ]
  },
  {
   "cell_type": "code",
   "execution_count": 68,
   "id": "00f846a9",
   "metadata": {},
   "outputs": [],
   "source": [
    "merged_univ = univ_info.merge(univ_city,on=\"university_name\",how=\"left\")\\\n",
    "    .drop(columns=[\"Country\"])\n"
   ]
  },
  {
   "cell_type": "code",
   "execution_count": 6,
   "id": "79d40df6",
   "metadata": {},
   "outputs": [
    {
     "data": {
      "text/plain": [
       "Index(['country_name', 'country_code', 'university_name', 'university_rank',\n",
       "       'program_name', 'program_type', 'deadline', 'duration', 'language',\n",
       "       'tution_1_currency', 'tution_1_money', 'tution_1_type',\n",
       "       'tution_2_currency', 'tution_2_money', 'tution_2_type',\n",
       "       'tuition_price_specification', 'start_date', 'ielts_score', 'structure',\n",
       "       'academic_req', 'facts', 'city', 'program_url', 'tuition_1_EUR',\n",
       "       'duration_months'],\n",
       "      dtype='object')"
      ]
     },
     "execution_count": 6,
     "metadata": {},
     "output_type": "execute_result"
    }
   ],
   "source": [
    "masters.facts.head()"
   ]
  },
  {
   "cell_type": "code",
   "execution_count": 19,
   "id": "f4dd6fe0",
   "metadata": {},
   "outputs": [
    {
     "data": {
      "text/plain": [
       "Index(['program_name', 'program_type', 'university_name', 'program_url',\n",
       "       'tuition', 'duration_months'],\n",
       "      dtype='object')"
      ]
     },
     "execution_count": 19,
     "metadata": {},
     "output_type": "execute_result"
    }
   ],
   "source": [
    "masters_short.columns"
   ]
  },
  {
   "cell_type": "code",
   "execution_count": null,
   "id": "82d71746",
   "metadata": {},
   "outputs": [],
   "source": [
    "masters_short.to"
   ]
  },
  {
   "cell_type": "code",
   "execution_count": 11,
   "id": "316166de",
   "metadata": {},
   "outputs": [
    {
     "data": {
      "text/plain": [
       "\"['Quantitative Methods for Economists (Mathematical Economics)', 'Econometrics 1 (Economic Statistics)', 'Microeconomic Theory', 'Macroeconomic Theory', 'Econometrics 2', 'Economic Research Seminar', 'Capstone: (3 credits completed during the Research Seminar course)', 'Econometrics and Forecasting', 'Labor Economics', 'Financial Economics', 'Health Economics', 'Statistics', 'Money, Banking and Monetary Policy', 'International Economics', 'Business Economics', 'Development Economics', 'Finance', 'Public Finance', 'Mathematics']\""
      ]
     },
     "execution_count": 11,
     "metadata": {},
     "output_type": "execute_result"
    }
   ],
   "source": [
    "masters.structure[0]\n"
   ]
  },
  {
   "cell_type": "code",
   "execution_count": 20,
   "id": "79212b04",
   "metadata": {},
   "outputs": [],
   "source": [
    "masters_short.to_csv(\"./Data/masters_short.csv\", index=False)"
   ]
  },
  {
   "cell_type": "code",
   "execution_count": 31,
   "id": "b1429a82",
   "metadata": {},
   "outputs": [
    {
     "data": {
      "text/plain": [
       "0    6442.0\n",
       "1    6300.0\n",
       "2    7497.0\n",
       "Name: tuition, dtype: float64"
      ]
     },
     "execution_count": 31,
     "metadata": {},
     "output_type": "execute_result"
    }
   ],
   "source": []
  },
  {
   "cell_type": "code",
   "execution_count": null,
   "id": "82482929",
   "metadata": {},
   "outputs": [],
   "source": [
    "LOAD DATA INFILE '/home/javier/Universidad/Master/2º Semestre/Biological databases/Project/Data/masters_short.csv'\n",
    "INTO TABLE master_degrees\n",
    "FIELDS TERMINATED BY ','\n",
    "ENCLOSED BY '\"'\n",
    "LINES TERMINATED BY '\\r\\n'\n",
    "IGNORE 1 ROWS\n",
    "(program_name, program_type, @dummy, program_url, tuition, duration_months, structure)\n",
    "SET university_name = @dummy;\n",
    "\n",
    "LOAD DATA INFILE '/var/lib/mysql-files/masters_short.csv'\n",
    "INTO TABLE master_degrees \n",
    "FIELDS TERMINATED BY ',' \n",
    "ENCLOSED BY '\"' \n",
    "LINES TERMINATED BY '\\n' \n",
    "IGNORE 1 ROWS \n",
    "(program_name, program_type, @university_name, program_url, tuition_1_EUR, @duration_months, structure) \n",
    "SET university_id = (SELECT id FROM universities WHERE university_name = @university_name), \n",
    "    duration_months = NULLIF(@duration_months, '');\n",
    "\n",
    "\n",
    "LOAD DATA INFILE '/var/lib/mysql-files/masters_short.csv'\n",
    "INTO TABLE your_table_name\n",
    "FIELDS TERMINATED BY ',' \n",
    "ENCLOSED BY '\"'\n",
    "LINES TERMINATED BY '\\n'\n",
    "IGNORE 1 ROWS\n",
    "(program_name, program_type, university_name, program_url, tuition, duration_months, structure);"
   ]
  }
 ],
 "metadata": {
  "kernelspec": {
   "display_name": "Python 3 (ipykernel)",
   "language": "python",
   "name": "python3"
  },
  "language_info": {
   "codemirror_mode": {
    "name": "ipython",
    "version": 3
   },
   "file_extension": ".py",
   "mimetype": "text/x-python",
   "name": "python",
   "nbconvert_exporter": "python",
   "pygments_lexer": "ipython3",
   "version": "3.8.10"
  },
  "varInspector": {
   "cols": {
    "lenName": 16,
    "lenType": 16,
    "lenVar": 40
   },
   "kernels_config": {
    "python": {
     "delete_cmd_postfix": "",
     "delete_cmd_prefix": "del ",
     "library": "var_list.py",
     "varRefreshCmd": "print(var_dic_list())"
    },
    "r": {
     "delete_cmd_postfix": ") ",
     "delete_cmd_prefix": "rm(",
     "library": "var_list.r",
     "varRefreshCmd": "cat(var_dic_list()) "
    }
   },
   "types_to_exclude": [
    "module",
    "function",
    "builtin_function_or_method",
    "instance",
    "_Feature"
   ],
   "window_display": false
  }
 },
 "nbformat": 4,
 "nbformat_minor": 5
}
