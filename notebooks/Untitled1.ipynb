{
 "cells": [
  {
   "cell_type": "code",
   "execution_count": 8,
   "id": "9eb5ed33",
   "metadata": {},
   "outputs": [],
   "source": [
    "import requests\n",
    "import csv\n",
    "import re\n",
    "import time\n",
    "import os\n",
    "from bs4 import BeautifulSoup as bs\n",
    "from random import randint\n",
    "\n",
    "results_path = \"scripts_output/mastersportal\"\n",
    "main_url = \"http://www.mastersportal.eu/countries/\"\n",
    "\n",
    "# Create results folder if it does not exist\n",
    "if not os.path.exists(results_path):\n",
    "    os.makedirs(results_path)\n",
    "    \n",
    "def get_no_from_str(x):\n",
    "    result = \"N/A\"\n",
    "    s = re.search(r\"[0-9]{1,5}([,.][0-9]{1,2})?\", x)\n",
    "    if s:\n",
    "        result = s.group()\n",
    "    return results\n"
   ]
  },
  {
   "cell_type": "code",
   "execution_count": 3,
   "id": "01049c49",
   "metadata": {},
   "outputs": [],
   "source": [
    "countries_res = requests.get(main_url)\n",
    "countries_page = bs(countries_res.text, \"lxml\")\n",
    "\n",
    "# Write csv output header\n",
    "programs_headers = [\"country_url\", \"country_name\", \"country_id\", \"university_url\",\n",
    "                    \"university_name\", \"university_id\", \"university_country\", \"study_url\",\n",
    "                    \"study_name\", \"program_name\", \"program_type\", \"study_id\", \"name\", \"deadline\",\n",
    "                    \"tuition_amount\", \"tuition_currency\", \"tuition_price_specification\", \"duration\",\n",
    "                    \"language\", \"university\", \"university_rank\", \"city\", \"country\", \"structure\", \"start_date\",\n",
    "                    \"application_deadline\", \"facts\", \"ielts_score\", \"cae_score\", \"toefl_score\",\n",
    "                    \"tuition_fees_containers\", \"academic_req\"]"
   ]
  },
  {
   "cell_type": "code",
   "execution_count": 10,
   "id": "2b89945c",
   "metadata": {},
   "outputs": [
    {
     "data": {
      "text/plain": [
       "'<!DOCTYPE html>\\n<html lang=\"en-US\">\\n   <head>\\n      <title>Access denied</title>\\n      <meta http-equiv=\"X-UA-Compatible\" content=\"IE=Edge\" />\\n      <meta name=\"robots\" content=\"noindex, nofollow\" />\\n      <meta name=\"viewport\" content=\"width=device-width,initial-scale=1\" />\\n      <link rel=\"stylesheet\" href=\"/cdn-cgi/styles/errors.css\" media=\"screen\" />\\n      <script>\\n(function(){if(document.addEventListener&&window.XMLHttpRequest&&JSON&&JSON.stringify){var e=function(a){var c=document.getElementById(\"error-feedback-survey\"),d=document.getElementById(\"error-feedback-success\"),b=new XMLHttpRequest;a={event:\"feedback clicked\",properties:{errorCode:1020,helpful:a,version:5}};b.open(\"POST\",\"https://sparrow.cloudflare.com/api/v1/event\");b.setRequestHeader(\"Content-Type\",\"application/json\");b.setRequestHeader(\"Sparrow-Source-Key\",\"c771f0e4b54944bebf4261d44bd79a1e\");\\nb.send(JSON.stringify(a));c.classList.add(\"feedback-hidden\");d.classList.remove(\"feedback-hidden\")};document.addEventListener(\"DOMContentLoaded\",function(){var a=document.getElementById(\"error-feedback\"),c=document.getElementById(\"feedback-button-yes\"),d=document.getElementById(\"feedback-button-no\");\"classList\"in a&&(a.classList.remove(\"feedback-hidden\"),c.addEventListener(\"click\",function(){e(!0)}),d.addEventListener(\"click\",function(){e(!1)}))})}})();\\n</script>\\n\\n      <script>\\n      (function(){function d(c){var b=document.getElementById(\"copy-label\"),a=document.getElementById(\"cf-details-wrapper-expandable\");c.target.checked?a.classList.add(\"expanded\"):(a.classList.remove(\"expanded\"),b.innerText=\"Click to copy\")}if(document.addEventListener){var e=function(){var c=document.getElementById(\"copy-label\");var b=document.getElementById(\"error-details\").textContent;if(navigator.clipboard)navigator.clipboard.writeText(b);else{var a=document.createElement(\"textarea\");a.value=b;a.style.top=\"0\";a.style.left=\"0\";a.style.position=\"fixed\";document.body.appendChild(a);a.focus();a.select();document.execCommand(\"copy\");document.body.removeChild(a)}c.innerText=\"Copied text to clipboard\"};document.addEventListener(\"DOMContentLoaded\",function(){var c=document.getElementById(\"error-details-checkbox\"),b=document.getElementById(\"click-to-copy-btn\");document.getElementById(\"copy-label\").classList.remove(\"hidden\");c.addEventListener(\"change\",d);b.addEventListener(\"click\",e)})}})();\\n      </script>\\n      <script defer src=\"https://performance.radar.cloudflare.com/beacon.js\"></script>\\n   </head>\\n   <body>\\n   <div class=\"cf-main-wrapper\" role=\"main\">\\n      <div class=\"cf-header cf-section\">\\n         <div class=\"cf-error-title\">\\n            <h1>Access denied</h1>\\n            <span class=\"cf-code-label\">Error code <span>1020</span></span>\\n         </div>\\n         <div class=\"cf-error-description\">\\n            <p>You do not have access to www.mastersportal.com.</p><p>The site owner may have set restrictions that prevent you from accessing the site.</p>\\n         </div>\\n      </div>\\n   </div>\\n\\n   <div class=\"cf-details-wrapper\">\\n      <div class=\"cf-section\" role=\"region\">\\n         <div class=\"cf-expandable\" id=\"cf-details-wrapper-expandable\">\\n            <label for=\"error-details-checkbox\" title=\"Error details\" class=\"cf-expandable-btn\">\\n               <p class=\"cf-dropdown-title\">Error details</p>\\n               <img src=\"data:image/png;base64,iVBORw0KGgoAAAANSUhEUgAAACAAAAAgBAMAAACBVGfHAAAAElBMVEUAAAAwMDAxMTEyMjIwMDAxMTF+89HTAAAABXRSTlMAf2CAMKS61bwAAABTSURBVCjPzcq7DcAgFENR5zMATfo06TNCViAS+6+CeFi6gglw4eLqaPVtaQpXnkApaQT/k0dw70EAUhCA1AnABGACMAGYAEwAkCOAydv+I5xaZhXWbQrD80TkkQAAAABJRU5ErkJggg==\"\\n               class=\"cf-caret-icon\" id=\"caret-icon\" alt=\"Caret icon\" />\\n            </label>\\n\\n            <input id=\"error-details-checkbox\" class=\"hidden\" type=\"checkbox\">\\n\\n            <div class=\"cf-expandable-error-info hidden\">\\n               <p class=\"cf-error-copy-description\">Provide the site owner this information.</p>\\n               <button class=\"cf-click-to-copy-btn\" id=\"click-to-copy-btn\" title=\"Click to copy\" type=\"button\">\\n<div class=\"cf-error-wrapper\" id=\"error-details\"><p class=\"cf-error-details-endpoint\">I got an error when visiting www.mastersportal.com/countries/.</p>\\n\\n<p>Error code: 1020</p>\\n<p>Ray ID: 7ab8cf72bf2a2e0e</p>\\n<p>Country: BE</p>\\n<p>Data center: bru01</p>\\n<p>IP: 87.65.3.98</p>\\n<p>Timestamp: 2023-03-21 20:05:33 UTC</p>\\n</div>\\n                  <p class=\"cf-copy-label hidden\" id=\"copy-label\">Click to copy</p>\\n               </button>\\n            </div>\\n         </div>\\n      </div>\\n\\n      <div class=\"clearfix cf-footer cf-section\" role=\"contentinfo\">\\n      <div class=\"cf-column\">\\n           <div class=\"feedback-hidden py-8 text-center\" id=\"error-feedback\">\\n    <div id=\"error-feedback-survey\" class=\"footer-line-wrapper\">\\n        Was this page helpful?\\n        <button class=\"border border-solid bg-white cf-button cursor-pointer ml-4 px-4 py-2 rounded\" id=\"feedback-button-yes\" type=\"button\">Yes</button>\\n        <button class=\"border border-solid bg-white cf-button cursor-pointer ml-4 px-4 py-2 rounded\" id=\"feedback-button-no\" type=\"button\">No</button>\\n    </div>\\n    <div class=\"feedback-success feedback-hidden\" id=\"error-feedback-success\">\\n        Thank you for your feedback!\\n    </div>\\n</div>\\n\\n      </div>\\n         <div class=\"cf-column cf-footer-line-wrapper text-center\">\\n            <p>\\n               Performance &amp; security by <a rel=\"noopener noreferrer\" href=\"https://www.cloudflare.com?utm_source=1020_error\" target=\"_blank\">Cloudflare <img class=\"external-link\" title=\"Opens in new tab\" src=\"/cdn-cgi/images/external.png\" alt=\"External link\"></a>\\n            </p>\\n         </div>\\n      </div>\\n   </div>\\n<script>(function(){var js = \"window[\\'__CF$cv$params\\']={r:\\'7ab8cf72bf2a2e0e\\',m:\\'wyVFFhCBKcLQe.ZoTi8RjZ8fG8PC1u1Xcd3005V1Z7w-1679429133-0-AR73AXcVYtSbhRrn1cNyQZLejZkk/8rDpImoSLvQpRHrBFDRYRXf6FaqjXgiAqnGT4IFhwiZffGTM9FE6ytkMN7Pju5Hl7sD0DFFx1KfVBWWzOzAalYHyf+8iKx+RS4I6g==\\',s:[0x082dd1718b,0x104fd9c615],u:\\'/cdn-cgi/challenge-platform/h/g\\'};var now=Date.now()/1000,offset=14400,ts=\\'\\'+(Math.floor(now)-Math.floor(now%offset)),_cpo=document.createElement(\\'script\\');_cpo.nonce=\\'\\',_cpo.src=\\'/cdn-cgi/challenge-platform/h/g/scripts/alpha/invisible.js?ts=\\'+ts,document.getElementsByTagName(\\'head\\')[0].appendChild(_cpo);\";var _0xh = document.createElement(\\'iframe\\');_0xh.height = 1;_0xh.width = 1;_0xh.style.position = \\'absolute\\';_0xh.style.top = 0;_0xh.style.left = 0;_0xh.style.border = \\'none\\';_0xh.style.visibility = \\'hidden\\';document.body.appendChild(_0xh);function handler() {var _0xi = _0xh.contentDocument || _0xh.contentWindow.document;if (_0xi) {var _0xj = _0xi.createElement(\\'script\\');_0xj.nonce = \\'\\';_0xj.innerHTML = js;_0xi.getElementsByTagName(\\'head\\')[0].appendChild(_0xj);}}if (document.readyState !== \\'loading\\') {handler();} else if (window.addEventListener) {document.addEventListener(\\'DOMContentLoaded\\', handler);} else {var prev = document.onreadystatechange || function () {};document.onreadystatechange = function (e) {prev(e);if (document.readyState !== \\'loading\\') {document.onreadystatechange = prev;handler();}};}})();</script></body>\\n</html>\\n'"
      ]
     },
     "execution_count": 10,
     "metadata": {},
     "output_type": "execute_result"
    }
   ],
   "source": [
    "requests.get(main_url).text\n"
   ]
  },
  {
   "cell_type": "code",
   "execution_count": null,
   "id": "3d9af167",
   "metadata": {},
   "outputs": [],
   "source": []
  }
 ],
 "metadata": {
  "kernelspec": {
   "display_name": "Python [conda env:py38ml] *",
   "language": "python",
   "name": "conda-env-py38ml-py"
  },
  "language_info": {
   "codemirror_mode": {
    "name": "ipython",
    "version": 3
   },
   "file_extension": ".py",
   "mimetype": "text/x-python",
   "name": "python",
   "nbconvert_exporter": "python",
   "pygments_lexer": "ipython3",
   "version": "3.8.10"
  },
  "varInspector": {
   "cols": {
    "lenName": 16,
    "lenType": 16,
    "lenVar": 40
   },
   "kernels_config": {
    "python": {
     "delete_cmd_postfix": "",
     "delete_cmd_prefix": "del ",
     "library": "var_list.py",
     "varRefreshCmd": "print(var_dic_list())"
    },
    "r": {
     "delete_cmd_postfix": ") ",
     "delete_cmd_prefix": "rm(",
     "library": "var_list.r",
     "varRefreshCmd": "cat(var_dic_list()) "
    }
   },
   "types_to_exclude": [
    "module",
    "function",
    "builtin_function_or_method",
    "instance",
    "_Feature"
   ],
   "window_display": false
  }
 },
 "nbformat": 4,
 "nbformat_minor": 5
}
